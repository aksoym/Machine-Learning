{
  "nbformat": 4,
  "nbformat_minor": 0,
  "metadata": {
    "colab": {
      "name": "AksoyMProject_4.ipynb",
      "version": "0.3.2",
      "provenance": [],
      "collapsed_sections": [],
      "include_colab_link": true
    },
    "kernelspec": {
      "name": "python3",
      "display_name": "Python 3"
    }
  },
  "cells": [
    {
      "cell_type": "markdown",
      "metadata": {
        "id": "view-in-github",
        "colab_type": "text"
      },
      "source": [
        "<a href=\"https://colab.research.google.com/github/aksoym/Machine-Learning/blob/master/AksoyMProject_4.ipynb\" target=\"_parent\"><img src=\"https://colab.research.google.com/assets/colab-badge.svg\" alt=\"Open In Colab\"/></a>"
      ]
    },
    {
      "cell_type": "markdown",
      "metadata": {
        "id": "d_nk-pAPJ7b4",
        "colab_type": "text"
      },
      "source": [
        "# UUM625 Project 4\n",
        "\n",
        "## Using CNN to detect aircraft existence in satellite images\n",
        "\n",
        "### Prepared by Muhammet Aksoy\n",
        "\n"
      ]
    },
    {
      "cell_type": "markdown",
      "metadata": {
        "id": "xuKJU9bQUxrC",
        "colab_type": "text"
      },
      "source": [
        "**Install modules and import libraries**"
      ]
    },
    {
      "cell_type": "code",
      "metadata": {
        "id": "3sj8AyMzMCe5",
        "colab_type": "code",
        "colab": {}
      },
      "source": [
        "!pip3 install livelossplot"
      ],
      "execution_count": 0,
      "outputs": []
    },
    {
      "cell_type": "code",
      "metadata": {
        "id": "DzMTzANL6Nkj",
        "colab_type": "code",
        "colab": {}
      },
      "source": [
        "#Google drive libraries.\n",
        "from google.colab import drive\n",
        "drive.mount(\"/content/drive\")\n",
        "\n",
        "#Keras libraries.\n",
        "from keras.layers import Conv2D, MaxPooling2D, Activation, Dropout, Flatten, Dense\n",
        "from keras import models\n",
        "from keras.optimizers import SGD\n",
        "from keras.layers.normalization import BatchNormalization\n",
        "from keras.metrics import binary_accuracy\n",
        "from keras.utils import to_categorical\n",
        "from keras import backend as K\n",
        "from keras.utils.generic_utils import get_custom_objects\n",
        "from livelossplot import PlotLossesKeras\n",
        "import tensorflow as tf\n",
        "tf.random.set_random_seed(30)\n",
        "\n",
        "#Numpy libraries.\n",
        "import numpy as np\n",
        "from numpy.random import shuffle\n",
        "np.random.seed(30)\n",
        "\n",
        "#Scikit-learn libraries.\n",
        "from sklearn.model_selection import train_test_split\n",
        "from sklearn.preprocessing import MinMaxScaler, normalize, StandardScaler\n",
        "from sklearn.metrics import classification_report, accuracy_score, confusion_matrix\n",
        "\n",
        "#JSON to read .json files.\n",
        "import json\n",
        "\n",
        "#Matplotlib libraries.\n",
        "import matplotlib.pyplot as plt\n"
      ],
      "execution_count": 0,
      "outputs": []
    },
    {
      "cell_type": "markdown",
      "metadata": {
        "id": "W1R3DXbAU9oz",
        "colab_type": "text"
      },
      "source": [
        "**Load the dataset(images) from .json format**"
      ]
    },
    {
      "cell_type": "code",
      "metadata": {
        "id": "EeK0Y3idS2yi",
        "colab_type": "code",
        "outputId": "3908f512-6273-4211-c11c-a02862b53c76",
        "colab": {
          "base_uri": "https://localhost:8080/",
          "height": 51
        }
      },
      "source": [
        "file = open(\"/content/drive/My Drive/DeepLearning/Project_4/planesnet.json\")\n",
        "planes = json.load(file)\n",
        "file.close()\n",
        "\n",
        "number_of_images = len(planes['data'])\n",
        "\n",
        "print(planes.keys(), \n",
        "      \"Number of images in the dataset: \" + str(number_of_images), sep='\\n')\n"
      ],
      "execution_count": 0,
      "outputs": [
        {
          "output_type": "stream",
          "text": [
            "dict_keys(['data', 'labels', 'locations', 'scene_ids'])\n",
            "Number of images in the dataset: 32000\n"
          ],
          "name": "stdout"
        }
      ]
    },
    {
      "cell_type": "markdown",
      "metadata": {
        "id": "beGuP6vNZeI5",
        "colab_type": "text"
      },
      "source": [
        "**Show a sample image from the dataset**"
      ]
    },
    {
      "cell_type": "code",
      "metadata": {
        "id": "H4yQ-3TyY7S2",
        "colab_type": "code",
        "outputId": "f195ff61-1d59-4da4-ae92-19bbea61d92a",
        "colab": {
          "base_uri": "https://localhost:8080/",
          "height": 286
        }
      },
      "source": [
        "index = 500\n",
        "sample_image = np.array(planes['data'][index]).astype('uint8') #Unsigned 8 bits means 256 possible integers to represent the RGB values.\n",
        "sample_image = sample_image.reshape((3, 400)).T.reshape((20, 20, 3))\n",
        "\n",
        "plt.imshow(sample_image)\n",
        "print(\"Aircraft existence: \" + str(planes['labels'][index]))\n",
        "plt.show()"
      ],
      "execution_count": 0,
      "outputs": [
        {
          "output_type": "stream",
          "text": [
            "Aircraft existence: 1\n"
          ],
          "name": "stdout"
        },
        {
          "output_type": "display_data",
          "data": {
            "image/png": "[encoded data removed]",
            "text/plain": [
              "<Figure size 432x288 with 1 Axes>"
            ]
          },
          "metadata": {
            "tags": []
          }
        }
      ]
    },
    {
      "cell_type": "markdown",
      "metadata": {
        "id": "Pr7Y5PbBmbYa",
        "colab_type": "text"
      },
      "source": [
        "**Preparing images and labels**"
      ]
    },
    {
      "cell_type": "code",
      "metadata": {
        "id": "i_DAsyLpiJYM",
        "colab_type": "code",
        "outputId": "98314b24-7b48-4f1e-9f31-d18020faa1f5",
        "colab": {
          "base_uri": "https://localhost:8080/",
          "height": 51
        }
      },
      "source": [
        "#Convert each image data to 20, 20, 3 shape and create a list.\n",
        "images = []\n",
        "for i in range(len(planes['data'])):\n",
        "  each_image = np.array(planes['data'][i]).astype('uint8') \n",
        "  each_image = each_image.reshape((3, 400)).T.reshape((20, 20, 3))\n",
        "  images.append(each_image)\n",
        "\n",
        "images = np.asarray(images)\n",
        "\n",
        "#Labels list.\n",
        "labels = planes['labels']\n",
        "labels = np.asarray(labels)\n",
        "\n",
        "print(images.shape, labels.shape, sep='\\n')"
      ],
      "execution_count": 0,
      "outputs": [
        {
          "output_type": "stream",
          "text": [
            "(32000, 20, 20, 3)\n",
            "(32000,)\n"
          ],
          "name": "stdout"
        }
      ]
    },
    {
      "cell_type": "markdown",
      "metadata": {
        "id": "v6HKlZnh-JIi",
        "colab_type": "text"
      },
      "source": [
        "**Train - Test split**"
      ]
    },
    {
      "cell_type": "code",
      "metadata": {
        "id": "OD79JADh9YSo",
        "colab_type": "code",
        "colab": {}
      },
      "source": [
        "train_images, test_images, train_labels, test_labels = train_test_split(images, labels, test_size=0.2, shuffle=True)\n",
        "\n",
        "\n",
        "#Scaling the RGB values to have the range [0, 1].\n",
        "train_images = train_images.astype('float32')/255\n",
        "test_images = test_images.astype('float32')/255\n",
        "\n"
      ],
      "execution_count": 0,
      "outputs": []
    },
    {
      "cell_type": "markdown",
      "metadata": {
        "id": "YQTJoF_JCcOj",
        "colab_type": "text"
      },
      "source": [
        "**Convolutional Neural Network**"
      ]
    },
    {
      "cell_type": "code",
      "metadata": {
        "id": "ccH3tUzQ_Qzw",
        "colab_type": "code",
        "outputId": "3acb7d19-7bc7-48f3-b986-320e1e605b0a",
        "colab": {
          "base_uri": "https://localhost:8080/",
          "height": 646
        }
      },
      "source": [
        "model = models.Sequential()\n",
        "\n",
        "\n",
        "model.add(Conv2D(8, 2, padding='valid',input_shape=(20,20,3)))\n",
        "model.add(BatchNormalization())\n",
        "model.add(Activation('relu'))\n",
        "model.add(MaxPooling2D((2,2)))\n",
        "\n",
        "model.add(Conv2D(32, 3, padding='valid'))\n",
        "model.add(BatchNormalization())\n",
        "model.add(Activation('relu'))\n",
        "model.add(Dropout(0.2))\n",
        "model.add(MaxPooling2D((2,2)))\n",
        "\n",
        "model.add(Conv2D(128, 2, kernel_initializer='random_uniform', padding='valid'))#64 2\n",
        "model.add(BatchNormalization())\n",
        "model.add(Activation('relu'))\n",
        "model.add(Dropout(0.5))\n",
        "model.add(Flatten())\n",
        "model.add(Dense(1, activation='sigmoid'))\n",
        "\n",
        "\n",
        "opt = SGD(lr=0.01, momentum=0.1, decay=0.00005, nesterov=True)\n",
        "model.compile(optimizer=opt, loss='binary_crossentropy', metrics=['binary_accuracy'])\n",
        "\n",
        "model.summary()"
      ],
      "execution_count": 0,
      "outputs": [
        {
          "output_type": "stream",
          "text": [
            "_________________________________________________________________\n",
            "Layer (type)                 Output Shape              Param #   \n",
            "=================================================================\n",
            "conv2d_44 (Conv2D)           (None, 19, 19, 8)         104       \n",
            "_________________________________________________________________\n",
            "batch_normalization_43 (Batc (None, 19, 19, 8)         32        \n",
            "_________________________________________________________________\n",
            "activation_57 (Activation)   (None, 19, 19, 8)         0         \n",
            "_________________________________________________________________\n",
            "max_pooling2d_25 (MaxPooling (None, 9, 9, 8)           0         \n",
            "_________________________________________________________________\n",
            "conv2d_45 (Conv2D)           (None, 7, 7, 32)          2336      \n",
            "_________________________________________________________________\n",
            "batch_normalization_44 (Batc (None, 7, 7, 32)          128       \n",
            "_________________________________________________________________\n",
            "activation_58 (Activation)   (None, 7, 7, 32)          0         \n",
            "_________________________________________________________________\n",
            "dropout_15 (Dropout)         (None, 7, 7, 32)          0         \n",
            "_________________________________________________________________\n",
            "max_pooling2d_26 (MaxPooling (None, 3, 3, 32)          0         \n",
            "_________________________________________________________________\n",
            "conv2d_46 (Conv2D)           (None, 2, 2, 128)         16512     \n",
            "_________________________________________________________________\n",
            "batch_normalization_45 (Batc (None, 2, 2, 128)         512       \n",
            "_________________________________________________________________\n",
            "activation_59 (Activation)   (None, 2, 2, 128)         0         \n",
            "_________________________________________________________________\n",
            "dropout_16 (Dropout)         (None, 2, 2, 128)         0         \n",
            "_________________________________________________________________\n",
            "flatten_15 (Flatten)         (None, 512)               0         \n",
            "_________________________________________________________________\n",
            "dense_20 (Dense)             (None, 1)                 513       \n",
            "=================================================================\n",
            "Total params: 20,137\n",
            "Trainable params: 19,801\n",
            "Non-trainable params: 336\n",
            "_________________________________________________________________\n"
          ],
          "name": "stdout"
        }
      ]
    },
    {
      "cell_type": "markdown",
      "metadata": {
        "id": "NhU0tCUrYA3i",
        "colab_type": "text"
      },
      "source": [
        "**Training**"
      ]
    },
    {
      "cell_type": "code",
      "metadata": {
        "id": "YrpssLtTYAbX",
        "colab_type": "code",
        "outputId": "ab880d2d-7d83-4f55-95c9-79fd5a8dd4d5",
        "colab": {
          "base_uri": "https://localhost:8080/",
          "height": 445
        }
      },
      "source": [
        "history = model.fit(train_images, train_labels, \n",
        "                    shuffle=True, validation_split=0.2,\n",
        "                    batch_size=256, epochs=200, callbacks=[PlotLossesKeras()])"
      ],
      "execution_count": 0,
      "outputs": [
        {
          "output_type": "display_data",
          "data": {
            "image/png": "[encoded data removed]",
            "text/plain": [
              "<Figure size 864x576 with 2 Axes>"
            ]
          },
          "metadata": {
            "tags": []
          }
        },
        {
          "output_type": "stream",
          "text": [
            "Log-loss (cost function):\n",
            "training   (min:    0.047, max:    0.310, cur:    0.048)\n",
            "validation (min:    0.059, max:    0.341, cur:    0.061)\n",
            "\n",
            "binary_accuracy:\n",
            "training   (min:    0.866, max:    0.984, cur:    0.982)\n",
            "validation (min:    0.839, max:    0.979, cur:    0.978)\n"
          ],
          "name": "stdout"
        }
      ]
    },
    {
      "cell_type": "code",
      "metadata": {
        "id": "ifd1-OqXjv4E",
        "colab_type": "code",
        "outputId": "ba4b6859-9527-432b-f697-e5f29cae198b",
        "colab": {
          "base_uri": "https://localhost:8080/",
          "height": 221
        }
      },
      "source": [
        "predicted_labels = model.predict(test_images)\n",
        "predicted_labels[predicted_labels>0.5] = 1\n",
        "predicted_labels[predicted_labels<0.5] = 0\n",
        "print(classification_report(test_labels, predicted_labels),\n",
        "      \"Accuracy: \" + str(accuracy_score(test_labels, predicted_labels)),\n",
        "      confusion_matrix(test_labels, predicted_labels), sep='\\n')"
      ],
      "execution_count": 0,
      "outputs": [
        {
          "output_type": "stream",
          "text": [
            "              precision    recall  f1-score   support\n",
            "\n",
            "           0       0.99      0.99      0.99      4778\n",
            "           1       0.96      0.96      0.96      1622\n",
            "\n",
            "    accuracy                           0.98      6400\n",
            "   macro avg       0.97      0.97      0.97      6400\n",
            "weighted avg       0.98      0.98      0.98      6400\n",
            "\n",
            "Accuracy: 0.98046875\n",
            "[[4718   60]\n",
            " [  65 1557]]\n"
          ],
          "name": "stdout"
        }
      ]
    }
  ]
}
